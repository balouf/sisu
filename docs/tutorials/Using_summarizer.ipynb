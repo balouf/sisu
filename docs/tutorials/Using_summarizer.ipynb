{
 "cells": [
  {
   "cell_type": "markdown",
   "metadata": {},
   "source": [
    "# Summarizer tutorial"
   ]
  },
  {
   "cell_type": "markdown",
   "metadata": {},
   "source": [
    "This tutorial aims at showing the basics for using sisu's flat summarizer."
   ]
  },
  {
   "cell_type": "markdown",
   "metadata": {},
   "source": [
    "## Loading a Gismo"
   ]
  },
  {
   "cell_type": "markdown",
   "metadata": {},
   "source": [
    "The summarizer uses a Gismo. For this tutorial, we will use a Gismo of a corpus of articles on Covid. You can use the following tutorial to build such a Gismo:\n",
    "\n",
    "https://balouf.github.io/sisu/tutorials/Gismo%20Covid.html"
   ]
  },
  {
   "cell_type": "markdown",
   "metadata": {},
   "source": [
    "The following loads the Gismo in memory."
   ]
  },
  {
   "cell_type": "code",
   "execution_count": 1,
   "metadata": {
    "ExecuteTime": {
     "end_time": "2021-03-14T19:41:31.329093Z",
     "start_time": "2021-03-14T19:41:31.317061Z"
    }
   },
   "outputs": [],
   "source": [
    "from pathlib import Path\n",
    "data_folder = Path('../../../../Datasets/covid')\n",
    "data_folder.exists()"
   ]
  },
  {
   "cell_type": "code",
   "execution_count": 2,
   "metadata": {
    "ExecuteTime": {
     "end_time": "2021-03-14T19:41:43.280259Z",
     "start_time": "2021-03-14T19:41:31.330057Z"
    }
   },
   "outputs": [],
   "source": [
    "from gismo.gismo import Gismo\n",
    "gismo = Gismo(filename=\"covid_gismo\", path=data_folder)"
   ]
  },
  {
   "cell_type": "markdown",
   "metadata": {},
   "source": [
    "## Creating a summarizer instance"
   ]
  },
  {
   "cell_type": "markdown",
   "metadata": {},
   "source": [
    "You create a summarizer with the Summarizer class, which feeds on a Gismo.\n",
    "\n",
    "Summarizer also has hyper-parameters you may want to play with (or not!).\n",
    "\n",
    "The general rule for the hyper-parameters is as follows:\n",
    "- All parameters have default values that will be use if you don't specify anything.\n",
    "- When creating an instance, you can specify some parameters. They will override the default parameters for the instance.\n",
    "- Default instance parameters can be accessed and changed through the attributes of the `parameters` attribute.\n",
    "- When building a summary, you can specify runtime parameters. They will override instance parameters (without changing them) for the build.\n",
    "\n",
    "The hyper-parameters are described there:\n",
    "\n",
    "https://balouf.github.io/sisu/reference/summarizer.html#sisu.summarizer.default_summarizer_parameters"
   ]
  },
  {
   "cell_type": "markdown",
   "metadata": {},
   "source": [
    "The following creates a summarizer that intends to produce 4 sentences out of the `content` of the articles."
   ]
  },
  {
   "cell_type": "code",
   "execution_count": 3,
   "metadata": {
    "ExecuteTime": {
     "end_time": "2021-03-14T19:41:43.292880Z",
     "start_time": "2021-03-14T19:41:43.282200Z"
    }
   },
   "outputs": [],
   "source": [
    "from sisu.summarizer import Summarizer\n",
    "summa = Summarizer(gismo, num_sentences=4, text_getter=lambda e: e['content'])"
   ]
  },
  {
   "cell_type": "markdown",
   "metadata": {},
   "source": [
    "The parameters are:"
   ]
  },
  {
   "cell_type": "code",
   "execution_count": 4,
   "metadata": {
    "ExecuteTime": {
     "end_time": "2021-03-14T19:41:43.313882Z",
     "start_time": "2021-03-14T19:41:43.294878Z"
    }
   },
   "outputs": [
    {
     "data": {
      "text/plain": [
       "{'order': 'rank',\n",
       " 'text_getter': <function __main__.<lambda>(e)>,\n",
       " 'sentence_tester': <function sisu.preprocessing.tokenizer.is_relevant_sentence(sentence: str, min_num_words: int = 6, max_num_words: int = 60) -> bool>,\n",
       " 'itf': True,\n",
       " 'post_processing': <function sisu.summarizer.<lambda>(summa, i)>,\n",
       " 'sentence_gismo_parameters': {'post': False, 'resolution': 0.99},\n",
       " 'num_documents': None,\n",
       " 'num_query': None,\n",
       " 'num_sentences': 4,\n",
       " 'max_chars': None}"
      ]
     },
     "execution_count": 4,
     "metadata": {},
     "output_type": "execute_result"
    }
   ],
   "source": [
    "summa.parameters()"
   ]
  },
  {
   "cell_type": "markdown",
   "metadata": {},
   "source": [
    "We test it on a request on *pangolin*."
   ]
  },
  {
   "cell_type": "code",
   "execution_count": 5,
   "metadata": {
    "ExecuteTime": {
     "end_time": "2021-03-14T19:41:46.614436Z",
     "start_time": "2021-03-14T19:41:43.315877Z"
    }
   },
   "outputs": [
    {
     "name": "stdout",
     "output_type": "stream",
     "text": [
      "['The amino acid residues change in S-protein of SARS-CoV-2 was further analyzed with SARS-CoV, pangolin and bat CoVs including pangolin/Guandong/1/2019, pangolin/Guangdong/lung08, and bat/Yunnan/RaTG13 (Figure 2) .', 'Figure 2b and Table S1 describe that all key amino acid residues of RBD (except two positions) are completely homologues between SARS-CoV-2 (Wuhan-Hu-1_MN908947) and pangolin CoVs (pangolin/Guandong/1/2019 and pangolin/Guangdong/lung08), supporting our postulation of recombination event in S-protein gene.', 'On the other hand, Beta-CoVs from pangolin sources (pangolin/Guandong/1/2019 and .', 'The Malayan pangolin (Manis javanica), a representative mammal species of the order Pholidota, is one of the only eight pangolin species worldwide.']\n"
     ]
    }
   ],
   "source": [
    "q = \"pangolin\"\n",
    "print(summa(q))"
   ]
  },
  {
   "cell_type": "markdown",
   "metadata": {},
   "source": [
    "## Ordering"
   ]
  },
  {
   "cell_type": "markdown",
   "metadata": {},
   "source": [
    "The default order is `rank`. How different are the two others?"
   ]
  },
  {
   "cell_type": "code",
   "execution_count": 6,
   "metadata": {
    "ExecuteTime": {
     "end_time": "2021-03-14T19:41:48.834561Z",
     "start_time": "2021-03-14T19:41:46.616379Z"
    }
   },
   "outputs": [
    {
     "name": "stdout",
     "output_type": "stream",
     "text": [
      "['The amino acid residues change in S-protein of SARS-CoV-2 was further analyzed with SARS-CoV, pangolin and bat CoVs including pangolin/Guandong/1/2019, pangolin/Guangdong/lung08, and bat/Yunnan/RaTG13 (Figure 2) .', 'Figure 2b and Table S1 describe that all key amino acid residues of RBD (except two positions) are completely homologues between SARS-CoV-2 (Wuhan-Hu-1_MN908947) and pangolin CoVs (pangolin/Guandong/1/2019 and pangolin/Guangdong/lung08), supporting our postulation of recombination event in S-protein gene.', 'The Malayan pangolin (Manis javanica), a representative mammal species of the order Pholidota, is one of the only eight pangolin species worldwide.', 'These results indicate that the Malayan pangolin might carry a novel CoV (here named Pangolin-CoV) that is similar to SARS-CoV-2.']\n",
      "['The two genomes were merged using the easymerge.pl subcommand from VirMAP to create the final pangolin-associated coronavirus (Pangolin-CoV) genome.', 'These results indicate that Pangolin-CoV could have pathogenic potential similar to that of SARS-CoV-2.', 'These new findings suggest further research to investigate pangolin as a SARS-CoV-2 reservoir.', 'This finding further supports the hypothesis that pangolin is involved in SARS-CoV-2 evolution.']\n"
     ]
    }
   ],
   "source": [
    "print(summa(q, order=\"coverage\"))\n",
    "print(summa(q, order='cosine'))"
   ]
  },
  {
   "cell_type": "markdown",
   "metadata": {},
   "source": [
    "## Spacy post-processing"
   ]
  },
  {
   "cell_type": "markdown",
   "metadata": {},
   "source": [
    "Notice how on the first summary we got an incomplete sentence without a verb? To automatically remove these, we can add a NLP post-processing (note that the number or returned sentences will be less than 4)."
   ]
  },
  {
   "cell_type": "code",
   "execution_count": 7,
   "metadata": {
    "ExecuteTime": {
     "end_time": "2021-03-14T19:41:50.384736Z",
     "start_time": "2021-03-14T19:41:48.836508Z"
    }
   },
   "outputs": [
    {
     "name": "stdout",
     "output_type": "stream",
     "text": [
      "['The amino acid residues change in S-protein of SARS-CoV-2 was further analyzed with SARS-CoV, pangolin and bat CoVs including pangolin/Guandong/1/2019, pangolin/Guangdong/lung08, and bat/Yunnan/RaTG13 (Figure 2) .', 'Figure 2b and Table S1 describe that all key amino acid residues of RBD (except two positions) are completely homologues between SARS-CoV-2 (Wuhan-Hu-1_MN908947) and pangolin CoVs (pangolin/Guandong/1/2019 and pangolin/Guangdong/lung08), supporting our postulation of recombination event in S-protein gene.', 'The Malayan pangolin (Manis javanica), a representative mammal species of the order Pholidota, is one of the only eight pangolin species worldwide.']\n"
     ]
    }
   ],
   "source": [
    "from sisu.summarizer import PostNLP\n",
    "import spacy\n",
    "nlp = spacy.load(\"en_core_web_sm\")\n",
    "\n",
    "print(summa(q, post_processing=PostNLP(nlp)))"
   ]
  },
  {
   "cell_type": "markdown",
   "metadata": {},
   "source": [
    "If you have the module neuralcoref installed on your system, you can activate co-reference resolution on the NLP post-processing. The following shows a proof of concept on the working of co-reference resolution."
   ]
  },
  {
   "cell_type": "code",
   "execution_count": 8,
   "metadata": {
    "ExecuteTime": {
     "end_time": "2021-03-14T19:41:50.765717Z",
     "start_time": "2021-03-14T19:41:50.387667Z"
    }
   },
   "outputs": [
    {
     "name": "stdout",
     "output_type": "stream",
     "text": [
      "My taylor is rich.\n",
      "My taylor has a dog.\n",
      "My taylor lives uptown.\n"
     ]
    }
   ],
   "source": [
    "import neuralcoref\n",
    "neuralcoref.add_to_pipe(nlp)\n",
    "\n",
    "summa.sentences_[0]['sentence'] = \"My taylor is rich.\"\n",
    "summa.sentences_[1]['sentence'] = \"She has a dog.\"\n",
    "summa.sentences_[2]['sentence'] = \"She lives uptown.\"\n",
    "post_nlp = PostNLP(nlp, coref=True)\n",
    "for i in range(3):\n",
    "    print(post_nlp(summa, i))"
   ]
  },
  {
   "cell_type": "markdown",
   "metadata": {},
   "source": [
    "## Character limit "
   ]
  },
  {
   "cell_type": "markdown",
   "metadata": {},
   "source": [
    "You can also have a target budget of characters. This will override `num_sentences`. Let try that on a new request."
   ]
  },
  {
   "cell_type": "code",
   "execution_count": 9,
   "metadata": {
    "ExecuteTime": {
     "end_time": "2021-03-14T19:41:53.885096Z",
     "start_time": "2021-03-14T19:41:50.767667Z"
    }
   },
   "outputs": [],
   "source": [
    "txt = \" \".join(summa(\"hydroxychloroquine\", max_chars=3000))"
   ]
  },
  {
   "cell_type": "code",
   "execution_count": 10,
   "metadata": {
    "ExecuteTime": {
     "end_time": "2021-03-14T19:41:53.891034Z",
     "start_time": "2021-03-14T19:41:53.886033Z"
    }
   },
   "outputs": [
    {
     "data": {
      "text/plain": [
       "'The cause of failure for hydroxychloroquine treatment should be investigated by testing the isolated SARS-CoV-2 strains of the non-respondents and analyzing their genome, and by analyzing the host factors that may be associated with the metabolism of hydroxychloroquine. When comparing the effect of hydroxychloroquine treatment as a single drug and the effect of hydroxychloroquine and azithromyc in combination, the proportion of patients that had negative PCR results in nasopharyngeal samples was significantly different between the two groups at days 3-4-5 and 6 post-inclusion (Table 3)  Cultures. Lessons learnt from chloroquine/ hydroxychloroquine use in HIV infection. The peak of the chromatogram at 1.05 min of retention corresponds to hydroxychloroquine metabolite. Equally important, chloroquine and hydroxychloroquine are generically produced, very inexpensive, and could be made available worldwide. Effect of hydroxychloroquine on viral load. Hydroxychloroquine (17 μM; HCQ) was purchased from Sanofi-Synthelabo. Role of Chloroquine and Hydroxychloroquine (HCQ). Chloroquine and Hydroxychloroquine and Emerging Viruses. Mean hydroxychloroquine serum concentration was 0.46 µg/ml+0.2 (N=20). Hydroxychloroquine differs from chloroquine by the presence of a hydroxyl group at the end of the side chain: the N-ethyl substituent is \\uf062-hydroxylated. Our preliminary results also suggest a synergistic effect of the combination of hydroxychloroquine and azithromycin. The serum concentration of this metabolite is deduced from UV absorption, as for hydroxychloroquine concentration. Recurrence occurred in 11.1% of patients without Hydroxychloroquine treatment. Decrease in the maternal-fetal transmission by hydroxychloroquine 1. Hydroxychloroquine was provided by the National Pharmacy of France on nominative demand. These hits are gemcitabine, gefitinib and vibarabine (FLUAV); gemcitabine, pirlindole dibucaine, fluoxetine and dalbavancin (EV1); gemcitabine, imatinib, ivermectin, lopinavir, lovastatin, ezetimibe, fluoxetine, BCX4430, chloroquine and hydroxychloroquine (ZIKV); chloroquine and mycophenolic acid (CHIKV); chloroquine, mycophenolic acid, dibucaine and itraconazole (RRV); as well as 5-azacitidine, gemcitabine, trifluridine and vidarabine (HSV-1). The antiretroviral effects of chloroquine/hydroxychloroquine may though become visible in anatomical sanctuaries of those individuals treated with PI-containing antiretroviral regimens. Both chloroquine/hydroxychloroquine and auranofin can influence these transitions by exerting a pro-apoptotic effect, the efficacy of which is graphically exemplified by the intensity of the blue color in the corresponding rectangles. In this light, chloroquine/hydroxychloroquine should have an anti-reservoir potential. Considering both concentrations provides an estimation of initial serum hydroxychloroquine concentration. In vivo effects of chloroquine/hydroxychloroquine: preclinical models.'"
      ]
     },
     "execution_count": 10,
     "metadata": {},
     "output_type": "execute_result"
    }
   ],
   "source": [
    "txt"
   ]
  },
  {
   "cell_type": "code",
   "execution_count": 11,
   "metadata": {
    "ExecuteTime": {
     "end_time": "2021-03-14T19:41:53.912257Z",
     "start_time": "2021-03-14T19:41:53.892032Z"
    }
   },
   "outputs": [
    {
     "data": {
      "text/plain": [
       "2962"
      ]
     },
     "execution_count": 11,
     "metadata": {},
     "output_type": "execute_result"
    }
   ],
   "source": [
    "len(txt)"
   ]
  }
 ],
 "metadata": {
  "kernelspec": {
   "display_name": "Python 3",
   "language": "python",
   "name": "python3"
  },
  "language_info": {
   "codemirror_mode": {
    "name": "ipython",
    "version": 3
   },
   "file_extension": ".py",
   "mimetype": "text/x-python",
   "name": "python",
   "nbconvert_exporter": "python",
   "pygments_lexer": "ipython3",
   "version": "3.7.7"
  },
  "toc": {
   "base_numbering": 1,
   "nav_menu": {},
   "number_sections": true,
   "sideBar": true,
   "skip_h1_title": true,
   "title_cell": "Table of Contents",
   "title_sidebar": "Contents",
   "toc_cell": false,
   "toc_position": {},
   "toc_section_display": true,
   "toc_window_display": false
  }
 },
 "nbformat": 4,
 "nbformat_minor": 4
}
