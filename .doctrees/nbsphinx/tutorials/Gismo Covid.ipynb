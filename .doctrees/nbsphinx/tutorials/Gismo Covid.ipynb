{
 "cells": [
  {
   "cell_type": "markdown",
   "metadata": {},
   "source": [
    "# Building a Gismo for the Covid Dataset"
   ]
  },
  {
   "cell_type": "markdown",
   "metadata": {},
   "source": [
    "This tutorial shows how to build a Gismo from a Covid Dataset. The Gismo is the base object that is used to analyze and summarize the dataset (see for example the Covid Summarizer tutorial)."
   ]
  },
  {
   "cell_type": "markdown",
   "metadata": {},
   "source": [
    "## Retrieving the Covid-19 Dataset Zip archive."
   ]
  },
  {
   "cell_type": "markdown",
   "metadata": {
    "ExecuteTime": {
     "end_time": "2021-03-12T11:15:19.163013Z",
     "start_time": "2021-03-12T11:15:19.156084Z"
    }
   },
   "source": [
    "The dataset can be downloaded from [Kaggle website](https://www.kaggle.com/allen-institute-for-ai/CORD-19-research-challenge) by clicking the Download button once registered. You'll get a zip file.\n",
    "\n",
    "We assume you downloaded the archive and that it is available in some directory (adjust the parameters below according to your own settings)."
   ]
  },
  {
   "cell_type": "code",
   "execution_count": 1,
   "metadata": {
    "ExecuteTime": {
     "end_time": "2021-03-12T15:14:43.818270Z",
     "start_time": "2021-03-12T15:14:43.807246Z"
    }
   },
   "outputs": [
    {
     "data": {
      "text/plain": [
       "True"
      ]
     },
     "execution_count": 1,
     "metadata": {},
     "output_type": "execute_result"
    }
   ],
   "source": [
    "from pathlib import Path\n",
    "DATASET_DIR = Path(\"../../../../../../Datasets/covid\")\n",
    "ARCHIVE = Path(\"CORD-19-research-challenge.zip\")\n",
    "(DATASET_DIR / ARCHIVE).exists()"
   ]
  },
  {
   "cell_type": "markdown",
   "metadata": {},
   "source": [
    "## Loading the corpus from zip"
   ]
  },
  {
   "cell_type": "markdown",
   "metadata": {},
   "source": [
    "sisu provides a simple interface to load the archive in the form of a list of dictionaries. For testing purposes, you can specify the number of documents you want to retrieve. Here we retrieve the first 100 documents."
   ]
  },
  {
   "cell_type": "code",
   "execution_count": 2,
   "metadata": {
    "ExecuteTime": {
     "end_time": "2021-03-12T15:14:49.258370Z",
     "start_time": "2021-03-12T15:14:43.820244Z"
    }
   },
   "outputs": [],
   "source": [
    "from sisu.datasets.covid import load_from_zip\n",
    "source = load_from_zip(file=ARCHIVE, data_path=DATASET_DIR, max_docs=1000)"
   ]
  },
  {
   "cell_type": "code",
   "execution_count": 3,
   "metadata": {
    "ExecuteTime": {
     "end_time": "2021-03-12T15:14:49.266373Z",
     "start_time": "2021-03-12T15:14:49.261375Z"
    }
   },
   "outputs": [
    {
     "data": {
      "text/plain": [
       "1000"
      ]
     },
     "execution_count": 3,
     "metadata": {},
     "output_type": "execute_result"
    }
   ],
   "source": [
    "len(source)"
   ]
  },
  {
   "cell_type": "markdown",
   "metadata": {},
   "source": [
    "Each entry contains by default 5 keys (this can be tuned):\n",
    "- `title`\n",
    "- `abstract`\n",
    "- `content`\n",
    "- `id`\n",
    "- `lang`\n",
    "\n",
    "For example, the first 10 titles"
   ]
  },
  {
   "cell_type": "code",
   "execution_count": 4,
   "metadata": {
    "ExecuteTime": {
     "end_time": "2021-03-12T15:14:49.280391Z",
     "start_time": "2021-03-12T15:14:49.271374Z"
    }
   },
   "outputs": [
    {
     "data": {
      "text/plain": [
       "['The RNA pseudoknots in foot-and-mouth disease virus are dispensable for genome replication but essential for the production of infectious virus. 2 3',\n",
       " 'Analysis Title: Regaining perspective on SARS-CoV-2 molecular tracing and its implications',\n",
       " 'Healthcare-resource-adjusted vulnerabilities towards the 2019-nCoV epidemic across China',\n",
       " 'Real-time, MinION-based, amplicon sequencing for lineage typing of infectious bronchitis virus from upper respiratory samples',\n",
       " 'A Combined Evidence Approach to Prioritize Nipah Virus Inhibitors',\n",
       " 'Assessing spread risk of Wuhan novel coronavirus within and beyond China, January-April 2020: a travel network-based modelling study',\n",
       " 'TWIRLS, an automated topic-wise inference method based on massive literature, suggests a possible mechanism via ACE2 for the pathological changes in the human host after coronavirus infection',\n",
       " 'Title: Viruses are a dominant driver of protein adaptation in mammals',\n",
       " 'The impact of regular school closure on seasonal influenza epidemics: a data-driven spatial transmission model for Belgium',\n",
       " 'Carbon Nanocarriers Deliver siRNA to Intact Plant Cells for Efficient Gene']"
      ]
     },
     "execution_count": 4,
     "metadata": {},
     "output_type": "execute_result"
    }
   ],
   "source": [
    "[e['title'] for e in source[:10]]"
   ]
  },
  {
   "cell_type": "markdown",
   "metadata": {},
   "source": [
    "Statistics on language used:"
   ]
  },
  {
   "cell_type": "code",
   "execution_count": 5,
   "metadata": {
    "ExecuteTime": {
     "end_time": "2021-03-12T15:14:49.294372Z",
     "start_time": "2021-03-12T15:14:49.282372Z"
    }
   },
   "outputs": [
    {
     "data": {
      "text/plain": [
       "Counter({'en': 998, 'fr': 2})"
      ]
     },
     "execution_count": 5,
     "metadata": {},
     "output_type": "execute_result"
    }
   ],
   "source": [
    "from collections import Counter\n",
    "Counter([e['lang'] for e in source])"
   ]
  },
  {
   "cell_type": "markdown",
   "metadata": {},
   "source": [
    "## Converting the archive into a FileSource"
   ]
  },
  {
   "cell_type": "markdown",
   "metadata": {},
   "source": [
    "Loading the whole file can be time and memory consuming."
   ]
  },
  {
   "cell_type": "code",
   "execution_count": 6,
   "metadata": {
    "ExecuteTime": {
     "end_time": "2021-03-12T15:17:57.956029Z",
     "start_time": "2021-03-12T15:14:49.296372Z"
    }
   },
   "outputs": [
    {
     "name": "stdout",
     "output_type": "stream",
     "text": [
      "Time to load 33375 articles: 188.65 seconds.\n"
     ]
    }
   ],
   "source": [
    "import time\n",
    "start = time.perf_counter()\n",
    "source = load_from_zip(file=ARCHIVE, data_path=DATASET_DIR)\n",
    "print(f\"Time to load {len(source)} articles: {(time.perf_counter()-start):.2f} seconds.\")"
   ]
  },
  {
   "cell_type": "markdown",
   "metadata": {},
   "source": [
    "If you only need to use the source for linear browsing or accessing a few elements, it can be interesting to save the source as a FileSource. A FileSource will basically behave like a list, except that the data stays stored on the hard drive."
   ]
  },
  {
   "cell_type": "code",
   "execution_count": 7,
   "metadata": {
    "ExecuteTime": {
     "end_time": "2021-03-12T15:18:50.531124Z",
     "start_time": "2021-03-12T15:17:57.958028Z"
    }
   },
   "outputs": [],
   "source": [
    "from gismo.filesource import FileSource, create_file_source\n",
    "create_file_source(source=source, filename=\"covid\", path=DATASET_DIR)"
   ]
  },
  {
   "cell_type": "markdown",
   "metadata": {},
   "source": [
    "After the FileSource has been created, it can be used instead of the in-memory list."
   ]
  },
  {
   "cell_type": "code",
   "execution_count": 8,
   "metadata": {
    "ExecuteTime": {
     "end_time": "2021-03-12T15:18:50.877239Z",
     "start_time": "2021-03-12T15:18:50.533137Z"
    }
   },
   "outputs": [
    {
     "name": "stdout",
     "output_type": "stream",
     "text": [
      "Time to load 33375 articles: 0.03 seconds.\n"
     ]
    }
   ],
   "source": [
    "from gismo.filesource import FileSource\n",
    "del source\n",
    "start = time.perf_counter()\n",
    "source = FileSource(filename=\"covid\", path=DATASET_DIR)\n",
    "print(f\"Time to load {len(source)} articles: {(time.perf_counter()-start):.2f} seconds.\")"
   ]
  },
  {
   "cell_type": "markdown",
   "metadata": {},
   "source": [
    "The main difference is that you cannot use slice index, just plain index or iterators."
   ]
  },
  {
   "cell_type": "code",
   "execution_count": 9,
   "metadata": {
    "ExecuteTime": {
     "end_time": "2021-03-12T15:18:50.887243Z",
     "start_time": "2021-03-12T15:18:50.878238Z"
    }
   },
   "outputs": [
    {
     "data": {
      "text/plain": [
       "['The RNA pseudoknots in foot-and-mouth disease virus are dispensable for genome replication but essential for the production of infectious virus. 2 3',\n",
       " 'Analysis Title: Regaining perspective on SARS-CoV-2 molecular tracing and its implications',\n",
       " 'Healthcare-resource-adjusted vulnerabilities towards the 2019-nCoV epidemic across China',\n",
       " 'Real-time, MinION-based, amplicon sequencing for lineage typing of infectious bronchitis virus from upper respiratory samples',\n",
       " 'A Combined Evidence Approach to Prioritize Nipah Virus Inhibitors',\n",
       " 'Assessing spread risk of Wuhan novel coronavirus within and beyond China, January-April 2020: a travel network-based modelling study',\n",
       " 'TWIRLS, an automated topic-wise inference method based on massive literature, suggests a possible mechanism via ACE2 for the pathological changes in the human host after coronavirus infection',\n",
       " 'Title: Viruses are a dominant driver of protein adaptation in mammals',\n",
       " 'The impact of regular school closure on seasonal influenza epidemics: a data-driven spatial transmission model for Belgium',\n",
       " 'Carbon Nanocarriers Deliver siRNA to Intact Plant Cells for Efficient Gene']"
      ]
     },
     "execution_count": 9,
     "metadata": {},
     "output_type": "execute_result"
    }
   ],
   "source": [
    "[source[i]['title'] for i in range(10)] # use range to avoid slice indexing"
   ]
  },
  {
   "cell_type": "code",
   "execution_count": 10,
   "metadata": {
    "ExecuteTime": {
     "end_time": "2021-03-12T15:18:59.207324Z",
     "start_time": "2021-03-12T15:18:50.889240Z"
    }
   },
   "outputs": [
    {
     "data": {
      "text/plain": [
       "Counter({'en': 32590, 'fr': 372, 'xx': 51, 'es': 295, 'de': 67})"
      ]
     },
     "execution_count": 10,
     "metadata": {},
     "output_type": "execute_result"
    }
   ],
   "source": [
    "Counter([e['lang'] for e in source])"
   ]
  },
  {
   "cell_type": "markdown",
   "metadata": {},
   "source": [
    "## Building a corpus"
   ]
  },
  {
   "cell_type": "markdown",
   "metadata": {},
   "source": [
    "A gismo corpus is essentially a list with instructions about how to convert items of the list to a text that will be used for the embedding (the text does not have to be comprehensible for humans)."
   ]
  },
  {
   "cell_type": "markdown",
   "metadata": {},
   "source": [
    "For example, we will build a list of English articles with non-trivial title, abtract and content. Note that we can close the source afterwards to avoid keeping an open file."
   ]
  },
  {
   "cell_type": "code",
   "execution_count": 12,
   "metadata": {
    "ExecuteTime": {
     "end_time": "2021-03-12T15:27:31.725590Z",
     "start_time": "2021-03-12T15:27:23.271280Z"
    }
   },
   "outputs": [
    {
     "data": {
      "text/plain": [
       "23114"
      ]
     },
     "execution_count": 12,
     "metadata": {},
     "output_type": "execute_result"
    }
   ],
   "source": [
    "english_source = [d for d in source if \n",
    "                  len(d['abstract']) > 140 and \n",
    "                  len(d['title']) > 20 and\n",
    "                  len(d['content']) > 200 and\n",
    "                  d['lang']=='en']\n",
    "source.close()\n",
    "len(english_source)"
   ]
  },
  {
   "cell_type": "markdown",
   "metadata": {},
   "source": [
    "Now we can associate the source and a text function (we use a text sanitizer that will extract content and do some cleaning)."
   ]
  },
  {
   "cell_type": "code",
   "execution_count": 13,
   "metadata": {
    "ExecuteTime": {
     "end_time": "2021-03-12T15:31:06.723164Z",
     "start_time": "2021-03-12T15:31:06.720168Z"
    }
   },
   "outputs": [],
   "source": [
    "from gismo.corpus import Corpus\n",
    "from sisu.preprocessing.tokenizer import to_text_sanitized\n",
    "\n",
    "corpus = Corpus(source=english_source, to_text=to_text_sanitized)"
   ]
  },
  {
   "cell_type": "markdown",
   "metadata": {},
   "source": [
    "## Building the embedding"
   ]
  },
  {
   "cell_type": "markdown",
   "metadata": {},
   "source": [
    "From the corpus, one can create the Gismo dual embedding of documents into words and words into documents. We will use some stopwords to avoid cluttering the embedding with common words that not not bring much information."
   ]
  },
  {
   "cell_type": "code",
   "execution_count": 32,
   "metadata": {
    "ExecuteTime": {
     "end_time": "2021-03-12T15:48:21.780515Z",
     "start_time": "2021-03-12T15:48:21.492419Z"
    }
   },
   "outputs": [],
   "source": [
    "from sisu.preprocessing.language import EN_STOP_WORDS\n",
    "covid_stop_words = ['preprint', 'copyright', 'holder', 'reuse', 'doi', 'reads', 'fig', 'figure']\n",
    "\n",
    "from sklearn.feature_extraction.text import CountVectorizer\n",
    "from gismo.embedding import Embedding\n",
    "vectorizer = CountVectorizer(min_df=5, dtype=float, stop_words=EN_STOP_WORDS+covid_stop_words)\n",
    "embedding = Embedding(vectorizer)\n",
    "embedding.fit_transform(corpus)"
   ]
  },
  {
   "cell_type": "code",
   "execution_count": 15,
   "metadata": {
    "ExecuteTime": {
     "end_time": "2021-03-12T15:35:24.813560Z",
     "start_time": "2021-03-12T15:35:24.807623Z"
    }
   },
   "outputs": [
    {
     "data": {
      "text/plain": [
       "<23114x92278 sparse matrix of type '<class 'numpy.float64'>'\n",
       "\twith 18690530 stored elements in Compressed Sparse Row format>"
      ]
     },
     "execution_count": 15,
     "metadata": {},
     "output_type": "execute_result"
    }
   ],
   "source": [
    "embedding.x"
   ]
  },
  {
   "cell_type": "markdown",
   "metadata": {},
   "source": [
    "The embedding graph relates 23,114 articles to 92,278 words through a bipartite graph of 18,690,530 relationships."
   ]
  },
  {
   "cell_type": "markdown",
   "metadata": {},
   "source": [
    "Average unique words per documents:"
   ]
  },
  {
   "cell_type": "code",
   "execution_count": 16,
   "metadata": {
    "ExecuteTime": {
     "end_time": "2021-03-12T15:36:17.711694Z",
     "start_time": "2021-03-12T15:36:17.705732Z"
    }
   },
   "outputs": [
    {
     "data": {
      "text/plain": [
       "808.6237777970061"
      ]
     },
     "execution_count": 16,
     "metadata": {},
     "output_type": "execute_result"
    }
   ],
   "source": [
    "18690530/23114"
   ]
  },
  {
   "cell_type": "markdown",
   "metadata": {},
   "source": [
    "Average number of documents where a random word appears:"
   ]
  },
  {
   "cell_type": "code",
   "execution_count": 17,
   "metadata": {
    "ExecuteTime": {
     "end_time": "2021-03-12T15:36:29.247371Z",
     "start_time": "2021-03-12T15:36:29.242306Z"
    }
   },
   "outputs": [
    {
     "data": {
      "text/plain": [
       "202.5458939292139"
      ]
     },
     "execution_count": 17,
     "metadata": {},
     "output_type": "execute_result"
    }
   ],
   "source": [
    "18690530/92278"
   ]
  },
  {
   "cell_type": "markdown",
   "metadata": {},
   "source": [
    "## The Gismo"
   ]
  },
  {
   "cell_type": "markdown",
   "metadata": {},
   "source": [
    "Gismo is just a concatenation of a corpus and an embedding."
   ]
  },
  {
   "cell_type": "code",
   "execution_count": 33,
   "metadata": {
    "ExecuteTime": {
     "end_time": "2021-03-12T15:48:29.762040Z",
     "start_time": "2021-03-12T15:48:29.729555Z"
    }
   },
   "outputs": [],
   "source": [
    "from gismo.gismo import Gismo\n",
    "gismo = Gismo(corpus, embedding)"
   ]
  },
  {
   "cell_type": "markdown",
   "metadata": {},
   "source": [
    "Small example: for a given query, proposes titles of relevant articles."
   ]
  },
  {
   "cell_type": "code",
   "execution_count": 20,
   "metadata": {
    "ExecuteTime": {
     "end_time": "2021-03-12T15:41:02.109927Z",
     "start_time": "2021-03-12T15:41:02.105895Z"
    }
   },
   "outputs": [],
   "source": [
    "gismo.post_documents_item = lambda g, i: g.corpus[i]['title']\n",
    "def propose_titles(query):\n",
    "    success = gismo.rank(query)\n",
    "    if success:\n",
    "        return gismo.get_documents_by_rank()\n",
    "    else:\n",
    "        print(f\"Not found anything about: {query}!\")"
   ]
  },
  {
   "cell_type": "code",
   "execution_count": 21,
   "metadata": {
    "ExecuteTime": {
     "end_time": "2021-03-12T15:41:13.887124Z",
     "start_time": "2021-03-12T15:41:11.960692Z"
    }
   },
   "outputs": [
    {
     "name": "stdout",
     "output_type": "stream",
     "text": [
      "Not found anything about: flklkfl!\n"
     ]
    }
   ],
   "source": [
    "propose_titles(\"flklkfl\")"
   ]
  },
  {
   "cell_type": "code",
   "execution_count": 22,
   "metadata": {
    "ExecuteTime": {
     "end_time": "2021-03-12T15:41:21.822635Z",
     "start_time": "2021-03-12T15:41:21.353857Z"
    }
   },
   "outputs": [
    {
     "data": {
      "text/plain": [
       "['Pangolin homology associated with 2019-nCoV',\n",
       " 'Probable Pangolin Origin of SARS-CoV-2 Associated with the COVID-19 Outbreak',\n",
       " 'Evidence of recombination in coronaviruses implicating pangolin origins of nCoV- 2019',\n",
       " 'Evidence of the Recombinant Origin and Ongoing Mutations in Severe Acute Respiratory Syndrome Coronavirus 2 (SARS-CoV-2)',\n",
       " 'Spike protein recognition of mammalian ACE2 predicts the host range and an optimized ACE2 for SARS-CoV-2 infection',\n",
       " 'Viral Metagenomics Revealed Sendai Virus and Coronavirus Infection of Malayan Pangolins (Manis javanica)',\n",
       " 'Emergence of SARS-CoV-2 through Recombination and Strong Purifying Selection Short Title: Recombination and origin of SARS-CoV-2 One Sentence Summary: Extensive Recombination and Strong Purifying Selection among coronaviruses from different hosts facilitate the emergence of SARS-CoV-2',\n",
       " 'Mutations, Recombination and Insertion in the Evolution of 2019-nCoV',\n",
       " 'SARS-CoV-2, an evolutionary perspective of interaction with human ACE2 reveals undiscovered amino acids necessary for complex stability',\n",
       " 'Journal Pre-proof Predicting the angiotensin converting enzyme 2 (ACE2) utilizing capability as the receptor of SARS-CoV-2 Predicting the angiotensin converting enzyme 2 (ACE2) utilizing capability as the receptor of SARS-CoV-2 2',\n",
       " 'CRISPR-based surveillance for COVID-19 using genomically-comprehensive machine learning design',\n",
       " 'ROLE OF CHANGES IN SARS-COV-2 SPIKE PROTEIN IN THE INTERACTION WITH THE HUMAN ACE2 RECEPTOR: AN IN SILICO ANALYSIS',\n",
       " 'Systematic Comparison of Two Animal-to-Human Transmitted Human Coronaviruses: SARS-CoV-2 and SARS-CoV',\n",
       " 'Animal origins of SARS coronavirus: possible links with the international trade in small carnivores',\n",
       " 'Strong evolutionary convergence of receptor-binding protein spike between COVID-19 and SARS-related coronaviruses',\n",
       " 'The epidemic of 2019-novel-coronavirus (2019-nCoV) pneumonia and insights for emerging infectious diseases in the future',\n",
       " 'Potential Factors Influencing Repeated SARS Outbreaks in China',\n",
       " 'The bushmeat and food security nexus: A global account of the contributions, conundrums and ethical collisions',\n",
       " 'Epidemic Situation of Novel Coronavirus Pneumonia in China mainland',\n",
       " 'Genome Detective Coronavirus Typing Tool for rapid identification and characterization of novel coronavirus genomes',\n",
       " 'Protein structure and sequence re-analysis of 2019-nCoV genome does not indicate snakes as its intermediate host or the unique similarity between its spike protein insertions and HIV-1',\n",
       " 'Digital Surveillance: A Novel Approach to Monitoring the Illegal Wildlife Trade',\n",
       " 'From sequence to enzyme mechanism using multi-label machine learning',\n",
       " 'Reasons for the increase in emerging and re-emerging viral infectious diseases',\n",
       " 'Wildlife trade, consumption and conservation awareness in southwest China']"
      ]
     },
     "execution_count": 22,
     "metadata": {},
     "output_type": "execute_result"
    }
   ],
   "source": [
    "propose_titles(\"pangolin\")"
   ]
  },
  {
   "cell_type": "code",
   "execution_count": 23,
   "metadata": {
    "ExecuteTime": {
     "end_time": "2021-03-12T15:41:47.330580Z",
     "start_time": "2021-03-12T15:41:46.839392Z"
    }
   },
   "outputs": [
    {
     "data": {
      "text/plain": [
       "['Widespread Divergence of the CEACAM/PSG Genes in Vertebrates and Humans Suggests Sensitivity to Selection',\n",
       " 'Coevolution of activating and inhibitory receptors within mammalian carcinoembryonic antigen families',\n",
       " 'Phylogenetic Distribution of CMP-Neu5Ac Hydroxylase (CMAH), the Enzyme Synthetizing the Proinflammatory Human Xenoantigen Neu5Gc',\n",
       " 'Immunoglobulin heavy chain diversity in Pteropid bats: evidence for a diverse and highly specific antigen binding repertoire',\n",
       " 'Evolutionary Dynamics of the Interferon-Induced Transmembrane Gene Family in Vertebrates',\n",
       " 'Evolution of vertebrate interferon inducible transmembrane proteins',\n",
       " 'A Comprehensive Phylogenetic and Structural Analysis of the Carcinoembryonic Antigen (CEA) Gene Family',\n",
       " 'Chiropteran types I and II interferon genes inferred from genome sequencing traces by a statistical gene-family assembler',\n",
       " 'A novel fast vector method for genetic sequence comparison OPEN',\n",
       " 'Alignment-free method for DNA sequence clustering using Fuzzy integral similarity',\n",
       " 'Emodin Inhibits EBV Reactivation and Represses NPC Tumorigenesis',\n",
       " 'Crystallographic Analysis of the Reaction Cycle of 2′,3′-Cyclic Nucleotide 3′-Phosphodiesterase, a Unique Member of the 2H Phosphoesterase Family',\n",
       " 'Evolutionary aspects of lipoxygenases and genetic diversity of human leukotriene signaling',\n",
       " 'A new method to analyze protein sequence similarity using Dynamic Time Warping',\n",
       " 'Effective one-pot multienzyme (OPME) synthesis of monotreme milk oligosaccharides and other sialosides containing a 4-O- acetyl sialic acid † HHS Public Access Author manuscript',\n",
       " 'A Poisson model of sequence comparison and its application to coronavirus phylogeny',\n",
       " 'Post-Glycosylation Modification of Sialic Acid and Its Role in Virus Pathogenesis',\n",
       " 'Similar ratios of introns to intergenic sequence across animal 1 genomes',\n",
       " 'Genomic organization and adaptive evolution of IGHC genes in marine mammals',\n",
       " 'Contrasting Patterns in Mammal-Bacteria Coevolution: Bartonella and Leptospira in Bats and Rodents',\n",
       " 'Peptide presentation by bat MHC class I provides new insight into the antiviral immunity of bats',\n",
       " 'Multiomics analysis of the giant triton snail salivary gland, a crown- of-thorns starfish predator OPEN',\n",
       " 'A novel immunity system for bacterial nucleic acid degrading toxins and its recruitment in various eukaryotic and DNA viral systems',\n",
       " 'The Value of the Tree of Life \"Nothing makes sense except in light of evolution\"',\n",
       " '34 Animals Hazardous to Humans']"
      ]
     },
     "execution_count": 23,
     "metadata": {},
     "output_type": "execute_result"
    }
   ],
   "source": [
    "propose_titles(\"platypus\")"
   ]
  },
  {
   "cell_type": "code",
   "execution_count": 29,
   "metadata": {
    "ExecuteTime": {
     "end_time": "2021-03-12T15:42:43.488374Z",
     "start_time": "2021-03-12T15:42:42.992517Z"
    }
   },
   "outputs": [
    {
     "data": {
      "text/plain": [
       "['Respiratory viruses within homeless shelters in Marseille, France',\n",
       " 'Epidemiology of respiratory pathogen carriage in the homeless population within two shelters in Marseille, France, 2015e2017: cross sectional 1-day surveys',\n",
       " 'Incidence of Hajj-associated febrile cough episodes among French pilgrims: a prospective cohort study on the influence of statin use and risk factors',\n",
       " 'Hydroxychloroquine and azithromycin as a treatment of COVID-19: results of an open- label non-randomized clinical trial',\n",
       " 'Infectious disease symptoms and microbial carriage among French medical students travelling abroad: A prospective study',\n",
       " 'Acquisition of respiratory viruses and presence of respiratory symptoms in French pilgrims during the 2016 Hajj: A prospective cohort study',\n",
       " 'The VIZIER project: Preparedness against pathogenic RNA viruses',\n",
       " \"French Hajj pilgrims' experience with pneumococcal infection and vaccination: A knowledge, attitudes and practice (KAP) evaluation\",\n",
       " 'Journal Pre-proof SARS-CoV-2: fear versus data SARS-CoV-2: fear versus data',\n",
       " 'Novel Virus Influenza A (H1N1sw) in South-Eastern',\n",
       " 'Bacterial respiratory carriage in French Hajj pilgrims and the effect of pneumococcal vaccine and other individual preventive measures: A prospective cohort survey',\n",
       " 'Detection of Plant DNA in the Bronchoalveolar Lavage of Patients with Ventilator-Associated Pneumonia',\n",
       " 'The dynamics and interactions of respiratory pathogen carriage among French pilgrims during the 2018 Hajj',\n",
       " 'Screening Pneumonia Patients for Mimivirus 1',\n",
       " 'Studies of nonhuman primates: key sources of data on zoonoses and microbiota',\n",
       " 'Studies of nonhuman primates: key sources of data on zoonoses and microbiota',\n",
       " 'Survey of laboratory-acquired infections around the world in biosafety level 3 and 4 laboratories',\n",
       " 'Filovirus Research in Gabon and Equatorial Africa: The Experience of a Research Center in the Heart of Africa',\n",
       " 'The impact of high-speed railway on tourism spatial structures between two adjoining metropolitan cities in China: Beijing and Tianjin',\n",
       " 'Travel and migration associated infectious diseases morbidity in Europe, 2008',\n",
       " 'Highly infectious diseases in the Mediterranean Sea area: Inventory of isolation capabilities and recommendations for appropriate isolation',\n",
       " 'Highly infectious diseases in the Mediterranean Sea area: Inventory of isolation capabilities and recommendations for appropriate isolation',\n",
       " 'Natural Killer Cells Promote Early CD8 T Cell Responses against Cytomegalovirus',\n",
       " 'The effect of chlortracycline treatment on enteric bacteria in pigs SoA1.3 Delsol AA a Analysis of Helicobacter pylori resistance to antimicrobial agents in Polish children SoA4.2',\n",
       " 'The history of the plague and the research on the causative agent Yersinia pestis',\n",
       " 'Antimicrobial resistance in anaerobic bacteria. Experiences in Europe and North America (Symposium arranged with ESGARAB) S11 Antimicrobial susceptibility patterns in different European countries Pathogenesis and prevention of nosocomial infections-new aspects (Symposium arranged with ESGNI) S14 Ventilator-associated pneumonia',\n",
       " '2018 international meeting of the Global Virus Network',\n",
       " 'Meeting report: 29th International Conference on Antiviral Research',\n",
       " \"Travelers' Actual and Subjective Knowledge about Risk for Ebola Virus Disease\",\n",
       " 'Asymptomatic Middle East Respiratory Syndrome Coronavirus (MERS-CoV) infection: Extent and implications for infection control: A systematic review']"
      ]
     },
     "execution_count": 29,
     "metadata": {},
     "output_type": "execute_result"
    }
   ],
   "source": [
    "propose_titles(\"marseille\")"
   ]
  },
  {
   "cell_type": "markdown",
   "metadata": {},
   "source": [
    "A Gismo can serve many purpose that will be exposed in other tutorials. Note that you can save your Gismo for later use."
   ]
  },
  {
   "cell_type": "code",
   "execution_count": 34,
   "metadata": {
    "ExecuteTime": {
     "end_time": "2021-03-12T15:48:39.494954Z",
     "start_time": "2021-03-12T15:48:38.935444Z"
    }
   },
   "outputs": [],
   "source": [
    "gismo.save(filename=\"covid_gismo\", path=DATASET_DIR, compress=True, erase=True)"
   ]
  }
 ],
 "metadata": {
  "kernelspec": {
   "display_name": "Python 3",
   "language": "python",
   "name": "python3"
  },
  "language_info": {
   "codemirror_mode": {
    "name": "ipython",
    "version": 3
   },
   "file_extension": ".py",
   "mimetype": "text/x-python",
   "name": "python",
   "nbconvert_exporter": "python",
   "pygments_lexer": "ipython3",
   "version": "3.7.7"
  },
  "toc": {
   "base_numbering": 1,
   "nav_menu": {},
   "number_sections": true,
   "sideBar": true,
   "skip_h1_title": true,
   "title_cell": "Table of Contents",
   "title_sidebar": "Contents",
   "toc_cell": false,
   "toc_position": {},
   "toc_section_display": true,
   "toc_window_display": true
  }
 },
 "nbformat": 4,
 "nbformat_minor": 4
}
